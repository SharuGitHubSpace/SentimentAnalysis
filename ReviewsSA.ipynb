{
  "nbformat": 4,
  "nbformat_minor": 0,
  "metadata": {
    "colab": {
      "provenance": [],
      "mount_file_id": "1Fx9jsmWJ0PlRHCBayUXLRuQPUw3Jkj6U",
      "authorship_tag": "ABX9TyOJhSgpw5eNfHw83Hb6cLfK",
      "include_colab_link": true
    },
    "kernelspec": {
      "name": "python3",
      "display_name": "Python 3"
    },
    "language_info": {
      "name": "python"
    }
  },
  "cells": [
    {
      "cell_type": "markdown",
      "metadata": {
        "id": "view-in-github",
        "colab_type": "text"
      },
      "source": [
        "<a href=\"https://colab.research.google.com/github/SharuGitHubSpace/SentimentAnalysis/blob/main/ReviewsSA.ipynb\" target=\"_parent\"><img src=\"https://colab.research.google.com/assets/colab-badge.svg\" alt=\"Open In Colab\"/></a>"
      ]
    },
    {
      "cell_type": "code",
      "execution_count": null,
      "metadata": {
        "id": "QcSzNbkQI4RO"
      },
      "outputs": [],
      "source": [
        "import pickle\n",
        "import random\n",
        "from random import sample\n",
        "import warnings\n",
        "warnings.filterwarnings(\"ignore\")\n",
        "from sklearn.metrics import classification_report\n",
        "from sklearn.metrics import confusion_matrix, ConfusionMatrixDisplay"
      ]
    },
    {
      "cell_type": "code",
      "source": [
        "#Start by connecting gdrive into the google colab\n",
        "\n",
        "from google.colab import drive\n",
        "drive.mount('/content/drive')\n"
      ],
      "metadata": {
        "id": "rVAHmOu6I5zH",
        "colab": {
          "base_uri": "https://localhost:8080/"
        },
        "outputId": "e94a1272-3f6f-44d2-940b-ca414992dfaf"
      },
      "execution_count": null,
      "outputs": [
        {
          "output_type": "stream",
          "name": "stdout",
          "text": [
            "Drive already mounted at /content/drive; to attempt to forcibly remount, call drive.mount(\"/content/drive\", force_remount=True).\n"
          ]
        }
      ]
    },
    {
      "cell_type": "code",
      "source": [
        "objects = []\n",
        "file = '/content/drive/MyDrive/Dataset/SA-REVIEWS-Dataset.pkl'\n",
        "with (open(file, \"rb\")) as openfile:\n",
        "    while True:\n",
        "        try:\n",
        "            objects.append(pickle.load(openfile))\n",
        "        except EOFError:\n",
        "            break"
      ],
      "metadata": {
        "id": "C_y5rDVidY5n"
      },
      "execution_count": null,
      "outputs": []
    },
    {
      "cell_type": "code",
      "source": [
        "api_key = ''\n",
        "with open('/content/drive/MyDrive/Dataset/api_key.txt') as f:\n",
        "    api_key = f.readlines()\n",
        "api_key[0]"
      ],
      "metadata": {
        "colab": {
          "base_uri": "https://localhost:8080/",
          "height": 35
        },
        "id": "Dv-wTjHffm_q",
        "outputId": "22dbd5ff-8c5f-450f-f7c8-3aa279c9dc94"
      },
      "execution_count": null,
      "outputs": [
        {
          "output_type": "execute_result",
          "data": {
            "text/plain": [
              "'09d47ff5-0b47-4fde-af33-bc2fe00886d9'"
            ],
            "application/vnd.google.colaboratory.intrinsic+json": {
              "type": "string"
            }
          },
          "metadata": {},
          "execution_count": 7
        }
      ]
    },
    {
      "cell_type": "code",
      "source": [
        "def predictedSentiment(data):\n",
        "    SentancePolaritymaxList = []\n",
        "    SentancePolaritymaxProbList = []\n",
        "    output_obj = data\n",
        "    for i in range(len(output_obj)):\n",
        "        #print(output_obj[i])\n",
        "        sentiment = output_obj[i]['extracted'][0][1]\n",
        "        sentiment\n",
        "        SentancePolaritymax = max(zip(sentiment.values(), sentiment.keys()))[1]\n",
        "        SentancePolaritymaxList.append(SentancePolaritymax)\n",
        "        SentancePolaritymaxProb = max(zip(sentiment.values(), sentiment.keys()))[0]\n",
        "        SentancePolaritymaxProbList.append(SentancePolaritymaxProb)\n",
        "    return SentancePolaritymaxList, SentancePolaritymaxProbList"
      ],
      "metadata": {
        "id": "kybHL7SJfdBM"
      },
      "execution_count": null,
      "outputs": []
    },
    {
      "cell_type": "code",
      "source": [
        "objects[0][0][0][1:50]"
      ],
      "metadata": {
        "colab": {
          "base_uri": "https://localhost:8080/"
        },
        "id": "mjLPLXg7g2v8",
        "outputId": "cd9b01a8-d21a-48a5-a203-ff989f34346a"
      },
      "execution_count": null,
      "outputs": [
        {
          "output_type": "execute_result",
          "data": {
            "text/plain": [
              "[[\"During the Tower confirmation debate, White House chief of staff John Sununu spoke of bizarre allegations ''coming in over the transom.''\"],\n",
              " [\"all reviews i've seen seem to indicate that the creative mp3 jukeboxes have the best sound quality of these 2nd generation jukeboxed (ipod, archos, dell, samsung).\"],\n",
              " [\"@anonymous trying not to, but it's gonna be hard! Bloody hard for me!\"],\n",
              " ['It challenges, this nervy oddity, like modern art should.'],\n",
              " ['There are no special effects, and no Hollywood endings.'],\n",
              " [\"Though overall an overwhelmingly positive portrayal, the film doesn't ignore the more problematic aspects of Brown's life.\"],\n",
              " ['Israel, Palestinians wrap up latest round of peace talks without announcing breakthrough - http://url_removed'],\n",
              " ['Programs like School Volunteers help fill the gap, working directly with students during school hours and giving them additional instruction in reading, writing, math, and English as a second language.'],\n",
              " ['Everything    even life on an aircraft carrier    is sentimentalized.'],\n",
              " ['The greatest among you must be a servant.//How are you serving? http://url_removed'],\n",
              " ['@anonymous no, the developers are the crazy ones for making that stuff IE only :/'],\n",
              " ['Mike Leigh populates his movie with a wonderful ensemble cast of characters that bring the routine day to day struggles of the working class to life'],\n",
              " ['I like it. There is a freedom to watching stunts that are this crude, this fast paced and this insane.'],\n",
              " [\"Today's SEC game winners: Texas A&amp;M, Georgia, LSU, Tennessee, Florida, Fresno State, Auburn. #notsafepicks\"],\n",
              " [\"if you're a bargain hunter and you want a great feature set for a rock-bottom price, i highly recommend this model.\"],\n",
              " ['Not even Gopac can deliver that.'],\n",
              " ['Scores a few points for doing what it does with a dedicated and good hearted professionalism.'],\n",
              " ['For a film about two mismatched buddies, Crystal and De Niro share little screen time and even less chemistry.'],\n",
              " ['But the parents were able to stay cool, tuned in to their son via an electronic intercom.'],\n",
              " ['...breathes surprising new life into the familiar by amalgamating genres and adding true human complexity to its not so stock characters.'],\n",
              " ['Davis ... gets vivid performances from her cast and pulls off some deft Ally McBeal style fantasy sequences.'],\n",
              " [\"but if you've used a slr 35mm camera, the controls are very intuitive!\"],\n",
              " ['great player... when it worked!'],\n",
              " ['The trees in Washington Square, their buds swelling, were etched by the clinging snow.'],\n",
              " ['One chap on today\\'s photo course was stopped by police: \"Do you have permission to take photos of this building?\" YOU DON\\'T NEED PERMISSION!'],\n",
              " ['@anonymous looks like, well for jetstar anyway the offer only extends to the 8th, my flight is on the 9th and I got a good price anyway...'],\n",
              " [\"It's like a ''Big Chill'' reunion of the Baader Meinhof Gang, only these guys are more harmless pranksters than political activists.\"],\n",
              " ['Long on twinkly eyed close ups and short on shame.'],\n",
              " ['their customer (www.apexdigitalinc.com) service is very poor.'],\n",
              " ['The notion that bombing buildings is the funniest thing in the world goes entirely unexamined in this startlingly unfunny comedy.'],\n",
              " ['What do these numbers say about America?'],\n",
              " ['He was, in short, a star, a durable fixture in the firmament of American life.'],\n",
              " [\"Today begins week 4 of my working mom adventure. Wonder what this week holds? Tomorrow Isaac turns 2, also! 2?! Can't believe it~\"],\n",
              " [\"Oddly, the film isn't nearly as downbeat as it sounds, but strikes a tone that's alternately melancholic, hopeful and strangely funny.\"],\n",
              " ['This film looks like it was produced in 1954, shelved for 48 years, and repackaged for a 2002 audience.'],\n",
              " ['Other publications, including The New York Times, write of frissons of fear, frissons of controversy, frissons of danger, frissons of authenticity, frissons of alarm, frissons of terror, frissons of reality and frissons of excitement.'],\n",
              " ['An enjoyable experience.'],\n",
              " ['@anonymous Eureka! Your \"How To Find Artisan Beef\" primer is perfect! http://url_removed @anonymous @anonymous @anonymous'],\n",
              " ['In this film we at least see a study in contrasts; the wide range of one actor, and the limited range of a comedian.'],\n",
              " ['Same, love the net! RT @anonymous: A Tumblr dedicated to women looking dissatisfied in bed. Man I love the internet!!  http://url_removed'],\n",
              " ['Do you ever wish you had your pair of light up LA Gears back? Good times...good times'],\n",
              " ['Resident Evil 5: Lost in Nightmares http://url_removed'],\n",
              " ['But this year, the 40th since Jackie Robinson became the first black player in the majors, the question remains regrettably appropriate.'],\n",
              " ['I am, apparently, in a really crappy mood'],\n",
              " ['A comedy that swings and jostles to the rhythms of life.'],\n",
              " ['Director Andrew Niccol...demonstrates a wry understanding of the quirks of fame. His healthy sense of satire is light and fun....'],\n",
              " ['Giving credit for appearance, as opposed to substance, certainly conveys a message about the way the world works.'],\n",
              " [\"The developer was Ross Perot Jr., son of the Dallas billionaire, and Mr. Wright's beneficence was seen at the time as pork barrel, pure and simple - a handout for a constituent who didn't need it.\"],\n",
              " ['piece of crap... it looks great - and is loaded with features.']]"
            ]
          },
          "metadata": {},
          "execution_count": 18
        }
      ]
    },
    {
      "cell_type": "code",
      "source": [
        "def flatten(l):\n",
        "    return [item for sublist in l for item in sublist]"
      ],
      "metadata": {
        "id": "7DrC8MvvkEsf"
      },
      "execution_count": null,
      "outputs": []
    },
    {
      "cell_type": "code",
      "source": [
        "# 100 items in 50 loops\n",
        "import pandas as pd\n",
        "df = pd.DataFrame()\n",
        "BATCH_SIZE = 1\n",
        "chunks = 1000\n",
        "\n",
        "XList = []\n",
        "yList = []\n",
        "# API Configuration\n",
        "import requests\n",
        "_url = \"148.113.138.69\"\n",
        "_key = api_key[0]\n",
        "url = \"http://\" + _url + \":49152/tLM\"\n",
        "\n",
        "for index in range(0, chunks):\n",
        "    _list = []\n",
        "    X = objects[0][0][0][index * BATCH_SIZE: (index + 1) * BATCH_SIZE]\n",
        "    y = objects[0][0][1][index * BATCH_SIZE: (index + 1) * BATCH_SIZE]\n",
        "    my_lst_str = flatten(X)\n",
        "    _list.append(my_lst_str)\n",
        "    input_obj = {'API-KEY': _key, 'X': _list }\n",
        "    output_obj = requests.post(url, json = input_obj)\n",
        "    output_obj = output_obj.json()\n",
        "    pred_y, pred_prob = predictedSentiment(output_obj)\n",
        "    data = {'sentances': X , 'True Label' : y , 'Pred Label' : pred_y , 'Pred Prob': pred_prob}\n",
        "    df = pd.concat([df, pd.DataFrame(data)], ignore_index=True)\n"
      ],
      "metadata": {
        "id": "do-UnXLkieei"
      },
      "execution_count": null,
      "outputs": []
    },
    {
      "cell_type": "code",
      "source": [
        "df\n"
      ],
      "metadata": {
        "colab": {
          "base_uri": "https://localhost:8080/",
          "height": 424
        },
        "id": "8BW6fI6Nj5Jr",
        "outputId": "191ab3a9-7e2d-4db8-b472-baabb00597ad"
      },
      "execution_count": null,
      "outputs": [
        {
          "output_type": "execute_result",
          "data": {
            "text/plain": [
              "                                              sentances  \\\n",
              "0     [Oedekerk mugs mercilessly, and the genuinely ...   \n",
              "1     [During the Tower confirmation debate, White H...   \n",
              "2     [all reviews i've seen seem to indicate that t...   \n",
              "3     [@anonymous trying not to, but it's gonna be h...   \n",
              "4     [It challenges, this nervy oddity, like modern...   \n",
              "...                                                 ...   \n",
              "9995  [if you want the other accessories the ipod of...   \n",
              "9996  [Halloween: Resurrection isn't exactly quality...   \n",
              "9997  [The circumstance contrasts strikingly with ba...   \n",
              "9998  [The production has been made with an enormous...   \n",
              "9999  [Ringu is a disaster of a story, full of holes...   \n",
              "\n",
              "                  True Label                Pred Label  Pred Prob  \n",
              "0     [[Sentiment=Negative]]      [Sentiment=Negative]   0.978924  \n",
              "1     [[Sentiment=Negative]]      [Sentiment=Negative]   0.800016  \n",
              "2     [[Sentiment=Positive]]      [Sentiment=Positive]   0.930243  \n",
              "3     [[Sentiment=Negative]]      [Sentiment=Negative]   0.607008  \n",
              "4     [[Sentiment=Positive]]      [Sentiment=Positive]   0.927426  \n",
              "...                      ...                       ...        ...  \n",
              "9995  [[Sentiment=Positive]]  [Sentiment=VeryNegative]   0.930136  \n",
              "9996   [[Sentiment=Neutral]]      [Sentiment=Negative]   0.855839  \n",
              "9997   [[Sentiment=Neutral]]      [Sentiment=Positive]   0.972845  \n",
              "9998  [[Sentiment=Positive]]      [Sentiment=Positive]   0.926371  \n",
              "9999  [[Sentiment=Negative]]      [Sentiment=Negative]   0.907451  \n",
              "\n",
              "[10000 rows x 4 columns]"
            ],
            "text/html": [
              "\n",
              "  <div id=\"df-5b2227be-737e-41f4-bfd3-0593849fc169\" class=\"colab-df-container\">\n",
              "    <div>\n",
              "<style scoped>\n",
              "    .dataframe tbody tr th:only-of-type {\n",
              "        vertical-align: middle;\n",
              "    }\n",
              "\n",
              "    .dataframe tbody tr th {\n",
              "        vertical-align: top;\n",
              "    }\n",
              "\n",
              "    .dataframe thead th {\n",
              "        text-align: right;\n",
              "    }\n",
              "</style>\n",
              "<table border=\"1\" class=\"dataframe\">\n",
              "  <thead>\n",
              "    <tr style=\"text-align: right;\">\n",
              "      <th></th>\n",
              "      <th>sentances</th>\n",
              "      <th>True Label</th>\n",
              "      <th>Pred Label</th>\n",
              "      <th>Pred Prob</th>\n",
              "    </tr>\n",
              "  </thead>\n",
              "  <tbody>\n",
              "    <tr>\n",
              "      <th>0</th>\n",
              "      <td>[Oedekerk mugs mercilessly, and the genuinely ...</td>\n",
              "      <td>[[Sentiment=Negative]]</td>\n",
              "      <td>[Sentiment=Negative]</td>\n",
              "      <td>0.978924</td>\n",
              "    </tr>\n",
              "    <tr>\n",
              "      <th>1</th>\n",
              "      <td>[During the Tower confirmation debate, White H...</td>\n",
              "      <td>[[Sentiment=Negative]]</td>\n",
              "      <td>[Sentiment=Negative]</td>\n",
              "      <td>0.800016</td>\n",
              "    </tr>\n",
              "    <tr>\n",
              "      <th>2</th>\n",
              "      <td>[all reviews i've seen seem to indicate that t...</td>\n",
              "      <td>[[Sentiment=Positive]]</td>\n",
              "      <td>[Sentiment=Positive]</td>\n",
              "      <td>0.930243</td>\n",
              "    </tr>\n",
              "    <tr>\n",
              "      <th>3</th>\n",
              "      <td>[@anonymous trying not to, but it's gonna be h...</td>\n",
              "      <td>[[Sentiment=Negative]]</td>\n",
              "      <td>[Sentiment=Negative]</td>\n",
              "      <td>0.607008</td>\n",
              "    </tr>\n",
              "    <tr>\n",
              "      <th>4</th>\n",
              "      <td>[It challenges, this nervy oddity, like modern...</td>\n",
              "      <td>[[Sentiment=Positive]]</td>\n",
              "      <td>[Sentiment=Positive]</td>\n",
              "      <td>0.927426</td>\n",
              "    </tr>\n",
              "    <tr>\n",
              "      <th>...</th>\n",
              "      <td>...</td>\n",
              "      <td>...</td>\n",
              "      <td>...</td>\n",
              "      <td>...</td>\n",
              "    </tr>\n",
              "    <tr>\n",
              "      <th>9995</th>\n",
              "      <td>[if you want the other accessories the ipod of...</td>\n",
              "      <td>[[Sentiment=Positive]]</td>\n",
              "      <td>[Sentiment=VeryNegative]</td>\n",
              "      <td>0.930136</td>\n",
              "    </tr>\n",
              "    <tr>\n",
              "      <th>9996</th>\n",
              "      <td>[Halloween: Resurrection isn't exactly quality...</td>\n",
              "      <td>[[Sentiment=Neutral]]</td>\n",
              "      <td>[Sentiment=Negative]</td>\n",
              "      <td>0.855839</td>\n",
              "    </tr>\n",
              "    <tr>\n",
              "      <th>9997</th>\n",
              "      <td>[The circumstance contrasts strikingly with ba...</td>\n",
              "      <td>[[Sentiment=Neutral]]</td>\n",
              "      <td>[Sentiment=Positive]</td>\n",
              "      <td>0.972845</td>\n",
              "    </tr>\n",
              "    <tr>\n",
              "      <th>9998</th>\n",
              "      <td>[The production has been made with an enormous...</td>\n",
              "      <td>[[Sentiment=Positive]]</td>\n",
              "      <td>[Sentiment=Positive]</td>\n",
              "      <td>0.926371</td>\n",
              "    </tr>\n",
              "    <tr>\n",
              "      <th>9999</th>\n",
              "      <td>[Ringu is a disaster of a story, full of holes...</td>\n",
              "      <td>[[Sentiment=Negative]]</td>\n",
              "      <td>[Sentiment=Negative]</td>\n",
              "      <td>0.907451</td>\n",
              "    </tr>\n",
              "  </tbody>\n",
              "</table>\n",
              "<p>10000 rows × 4 columns</p>\n",
              "</div>\n",
              "    <div class=\"colab-df-buttons\">\n",
              "\n",
              "  <div class=\"colab-df-container\">\n",
              "    <button class=\"colab-df-convert\" onclick=\"convertToInteractive('df-5b2227be-737e-41f4-bfd3-0593849fc169')\"\n",
              "            title=\"Convert this dataframe to an interactive table.\"\n",
              "            style=\"display:none;\">\n",
              "\n",
              "  <svg xmlns=\"http://www.w3.org/2000/svg\" height=\"24px\" viewBox=\"0 -960 960 960\">\n",
              "    <path d=\"M120-120v-720h720v720H120Zm60-500h600v-160H180v160Zm220 220h160v-160H400v160Zm0 220h160v-160H400v160ZM180-400h160v-160H180v160Zm440 0h160v-160H620v160ZM180-180h160v-160H180v160Zm440 0h160v-160H620v160Z\"/>\n",
              "  </svg>\n",
              "    </button>\n",
              "\n",
              "  <style>\n",
              "    .colab-df-container {\n",
              "      display:flex;\n",
              "      gap: 12px;\n",
              "    }\n",
              "\n",
              "    .colab-df-convert {\n",
              "      background-color: #E8F0FE;\n",
              "      border: none;\n",
              "      border-radius: 50%;\n",
              "      cursor: pointer;\n",
              "      display: none;\n",
              "      fill: #1967D2;\n",
              "      height: 32px;\n",
              "      padding: 0 0 0 0;\n",
              "      width: 32px;\n",
              "    }\n",
              "\n",
              "    .colab-df-convert:hover {\n",
              "      background-color: #E2EBFA;\n",
              "      box-shadow: 0px 1px 2px rgba(60, 64, 67, 0.3), 0px 1px 3px 1px rgba(60, 64, 67, 0.15);\n",
              "      fill: #174EA6;\n",
              "    }\n",
              "\n",
              "    .colab-df-buttons div {\n",
              "      margin-bottom: 4px;\n",
              "    }\n",
              "\n",
              "    [theme=dark] .colab-df-convert {\n",
              "      background-color: #3B4455;\n",
              "      fill: #D2E3FC;\n",
              "    }\n",
              "\n",
              "    [theme=dark] .colab-df-convert:hover {\n",
              "      background-color: #434B5C;\n",
              "      box-shadow: 0px 1px 3px 1px rgba(0, 0, 0, 0.15);\n",
              "      filter: drop-shadow(0px 1px 2px rgba(0, 0, 0, 0.3));\n",
              "      fill: #FFFFFF;\n",
              "    }\n",
              "  </style>\n",
              "\n",
              "    <script>\n",
              "      const buttonEl =\n",
              "        document.querySelector('#df-5b2227be-737e-41f4-bfd3-0593849fc169 button.colab-df-convert');\n",
              "      buttonEl.style.display =\n",
              "        google.colab.kernel.accessAllowed ? 'block' : 'none';\n",
              "\n",
              "      async function convertToInteractive(key) {\n",
              "        const element = document.querySelector('#df-5b2227be-737e-41f4-bfd3-0593849fc169');\n",
              "        const dataTable =\n",
              "          await google.colab.kernel.invokeFunction('convertToInteractive',\n",
              "                                                    [key], {});\n",
              "        if (!dataTable) return;\n",
              "\n",
              "        const docLinkHtml = 'Like what you see? Visit the ' +\n",
              "          '<a target=\"_blank\" href=https://colab.research.google.com/notebooks/data_table.ipynb>data table notebook</a>'\n",
              "          + ' to learn more about interactive tables.';\n",
              "        element.innerHTML = '';\n",
              "        dataTable['output_type'] = 'display_data';\n",
              "        await google.colab.output.renderOutput(dataTable, element);\n",
              "        const docLink = document.createElement('div');\n",
              "        docLink.innerHTML = docLinkHtml;\n",
              "        element.appendChild(docLink);\n",
              "      }\n",
              "    </script>\n",
              "  </div>\n",
              "\n",
              "\n",
              "<div id=\"df-8cdf3d30-3b25-4089-8196-c92bb47d4cfb\">\n",
              "  <button class=\"colab-df-quickchart\" onclick=\"quickchart('df-8cdf3d30-3b25-4089-8196-c92bb47d4cfb')\"\n",
              "            title=\"Suggest charts.\"\n",
              "            style=\"display:none;\">\n",
              "\n",
              "<svg xmlns=\"http://www.w3.org/2000/svg\" height=\"24px\"viewBox=\"0 0 24 24\"\n",
              "     width=\"24px\">\n",
              "    <g>\n",
              "        <path d=\"M19 3H5c-1.1 0-2 .9-2 2v14c0 1.1.9 2 2 2h14c1.1 0 2-.9 2-2V5c0-1.1-.9-2-2-2zM9 17H7v-7h2v7zm4 0h-2V7h2v10zm4 0h-2v-4h2v4z\"/>\n",
              "    </g>\n",
              "</svg>\n",
              "  </button>\n",
              "\n",
              "<style>\n",
              "  .colab-df-quickchart {\n",
              "      --bg-color: #E8F0FE;\n",
              "      --fill-color: #1967D2;\n",
              "      --hover-bg-color: #E2EBFA;\n",
              "      --hover-fill-color: #174EA6;\n",
              "      --disabled-fill-color: #AAA;\n",
              "      --disabled-bg-color: #DDD;\n",
              "  }\n",
              "\n",
              "  [theme=dark] .colab-df-quickchart {\n",
              "      --bg-color: #3B4455;\n",
              "      --fill-color: #D2E3FC;\n",
              "      --hover-bg-color: #434B5C;\n",
              "      --hover-fill-color: #FFFFFF;\n",
              "      --disabled-bg-color: #3B4455;\n",
              "      --disabled-fill-color: #666;\n",
              "  }\n",
              "\n",
              "  .colab-df-quickchart {\n",
              "    background-color: var(--bg-color);\n",
              "    border: none;\n",
              "    border-radius: 50%;\n",
              "    cursor: pointer;\n",
              "    display: none;\n",
              "    fill: var(--fill-color);\n",
              "    height: 32px;\n",
              "    padding: 0;\n",
              "    width: 32px;\n",
              "  }\n",
              "\n",
              "  .colab-df-quickchart:hover {\n",
              "    background-color: var(--hover-bg-color);\n",
              "    box-shadow: 0 1px 2px rgba(60, 64, 67, 0.3), 0 1px 3px 1px rgba(60, 64, 67, 0.15);\n",
              "    fill: var(--button-hover-fill-color);\n",
              "  }\n",
              "\n",
              "  .colab-df-quickchart-complete:disabled,\n",
              "  .colab-df-quickchart-complete:disabled:hover {\n",
              "    background-color: var(--disabled-bg-color);\n",
              "    fill: var(--disabled-fill-color);\n",
              "    box-shadow: none;\n",
              "  }\n",
              "\n",
              "  .colab-df-spinner {\n",
              "    border: 2px solid var(--fill-color);\n",
              "    border-color: transparent;\n",
              "    border-bottom-color: var(--fill-color);\n",
              "    animation:\n",
              "      spin 1s steps(1) infinite;\n",
              "  }\n",
              "\n",
              "  @keyframes spin {\n",
              "    0% {\n",
              "      border-color: transparent;\n",
              "      border-bottom-color: var(--fill-color);\n",
              "      border-left-color: var(--fill-color);\n",
              "    }\n",
              "    20% {\n",
              "      border-color: transparent;\n",
              "      border-left-color: var(--fill-color);\n",
              "      border-top-color: var(--fill-color);\n",
              "    }\n",
              "    30% {\n",
              "      border-color: transparent;\n",
              "      border-left-color: var(--fill-color);\n",
              "      border-top-color: var(--fill-color);\n",
              "      border-right-color: var(--fill-color);\n",
              "    }\n",
              "    40% {\n",
              "      border-color: transparent;\n",
              "      border-right-color: var(--fill-color);\n",
              "      border-top-color: var(--fill-color);\n",
              "    }\n",
              "    60% {\n",
              "      border-color: transparent;\n",
              "      border-right-color: var(--fill-color);\n",
              "    }\n",
              "    80% {\n",
              "      border-color: transparent;\n",
              "      border-right-color: var(--fill-color);\n",
              "      border-bottom-color: var(--fill-color);\n",
              "    }\n",
              "    90% {\n",
              "      border-color: transparent;\n",
              "      border-bottom-color: var(--fill-color);\n",
              "    }\n",
              "  }\n",
              "</style>\n",
              "\n",
              "  <script>\n",
              "    async function quickchart(key) {\n",
              "      const quickchartButtonEl =\n",
              "        document.querySelector('#' + key + ' button');\n",
              "      quickchartButtonEl.disabled = true;  // To prevent multiple clicks.\n",
              "      quickchartButtonEl.classList.add('colab-df-spinner');\n",
              "      try {\n",
              "        const charts = await google.colab.kernel.invokeFunction(\n",
              "            'suggestCharts', [key], {});\n",
              "      } catch (error) {\n",
              "        console.error('Error during call to suggestCharts:', error);\n",
              "      }\n",
              "      quickchartButtonEl.classList.remove('colab-df-spinner');\n",
              "      quickchartButtonEl.classList.add('colab-df-quickchart-complete');\n",
              "    }\n",
              "    (() => {\n",
              "      let quickchartButtonEl =\n",
              "        document.querySelector('#df-8cdf3d30-3b25-4089-8196-c92bb47d4cfb button');\n",
              "      quickchartButtonEl.style.display =\n",
              "        google.colab.kernel.accessAllowed ? 'block' : 'none';\n",
              "    })();\n",
              "  </script>\n",
              "</div>\n",
              "    </div>\n",
              "  </div>\n"
            ]
          },
          "metadata": {},
          "execution_count": 92
        }
      ]
    },
    {
      "cell_type": "code",
      "source": [
        "for i, row in df.iterrows():\n",
        "    print(df.loc[i,'True Label'][0] )\n",
        "    df.loc[i,'True Label']  = df.loc[i,'True Label'][0]"
      ],
      "metadata": {
        "id": "NKA0ct5dnRF9"
      },
      "execution_count": null,
      "outputs": []
    },
    {
      "cell_type": "code",
      "source": [
        "location = '/content/drive/MyDrive/Dataset/'\n",
        "\n",
        "with pd.ExcelWriter(location+'output_ReviewSA.xlsx') as excel_writer:\n",
        "    df.to_excel(excel_writer, sheet_name='Review - Sentiment Analysis', index=False)"
      ],
      "metadata": {
        "id": "iZaBLR2wgMAx"
      },
      "execution_count": null,
      "outputs": []
    },
    {
      "cell_type": "code",
      "source": [
        "df['True Label']"
      ],
      "metadata": {
        "colab": {
          "base_uri": "https://localhost:8080/"
        },
        "id": "o5FPN8tlnIdN",
        "outputId": "aa62b7dd-b5eb-4dc1-8a5a-1df9b6997ace"
      },
      "execution_count": null,
      "outputs": [
        {
          "output_type": "execute_result",
          "data": {
            "text/plain": [
              "0     [[Sentiment=Negative]]\n",
              "1     [[Sentiment=Negative]]\n",
              "2     [[Sentiment=Positive]]\n",
              "3     [[Sentiment=Negative]]\n",
              "4     [[Sentiment=Positive]]\n",
              "               ...          \n",
              "95    [[Sentiment=Negative]]\n",
              "96     [[Sentiment=Neutral]]\n",
              "97    [[Sentiment=Negative]]\n",
              "98    [[Sentiment=Positive]]\n",
              "99    [[Sentiment=Positive]]\n",
              "Name: True Label, Length: 100, dtype: object"
            ]
          },
          "metadata": {},
          "execution_count": 76
        }
      ]
    },
    {
      "cell_type": "code",
      "source": [
        "Labels = ['Sentiment=Negative'  , 'Sentiment=Neutral' , 'Sentiment=Positive' , 'Sentiment=VeryNegative' , 'Sentiment=VeryPositive']\n",
        "cm = confusion_matrix(df['True Label'], df['Pred Label'] )\n",
        "disp = ConfusionMatrixDisplay(confusion_matrix=cm  )\n",
        "disp.plot()"
      ],
      "metadata": {
        "colab": {
          "base_uri": "https://localhost:8080/",
          "height": 466
        },
        "id": "TyRSCuqnnYr3",
        "outputId": "b9293b43-b56e-4731-e5da-407d72f735fc"
      },
      "execution_count": null,
      "outputs": [
        {
          "output_type": "execute_result",
          "data": {
            "text/plain": [
              "<sklearn.metrics._plot.confusion_matrix.ConfusionMatrixDisplay at 0x7909d04e4820>"
            ]
          },
          "metadata": {},
          "execution_count": 96
        },
        {
          "output_type": "display_data",
          "data": {
            "text/plain": [
              "<Figure size 640x480 with 2 Axes>"
            ],
            "image/png": "[encoded data removed]"
          },
          "metadata": {}
        }
      ]
    }
  ]
}