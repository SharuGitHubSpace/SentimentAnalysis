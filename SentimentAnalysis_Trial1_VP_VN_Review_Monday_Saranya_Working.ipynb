{
  "cells": [
    {
      "cell_type": "markdown",
      "metadata": {
        "id": "view-in-github",
        "colab_type": "text"
      },
      "source": [
        "<a href=\"https://colab.research.google.com/github/SharuGitHubSpace/SentimentAnalysis/blob/main/SentimentAnalysis_Trial1_VP_VN_Review_Monday_Saranya_Working.ipynb\" target=\"_parent\"><img src=\"https://colab.research.google.com/assets/colab-badge.svg\" alt=\"Open In Colab\"/></a>"
      ]
    },
    {
      "cell_type": "code",
      "execution_count": 2,
      "metadata": {
        "id": "5rC9RU0Ii6g_"
      },
      "outputs": [],
      "source": [
        "import pickle\n",
        "import requests\n",
        "from tqdm import tqdm\n",
        "from random import sample\n",
        "from functools import reduce"
      ]
    },
    {
      "cell_type": "code",
      "execution_count": 3,
      "metadata": {
        "colab": {
          "base_uri": "https://localhost:8080/"
        },
        "id": "TSKpveJ1AJZF",
        "outputId": "57e57faf-15de-4e5a-e3d3-bd59c1ca89f1"
      },
      "outputs": [
        {
          "output_type": "stream",
          "name": "stdout",
          "text": [
            "Mounted at /content/drive\n"
          ]
        }
      ],
      "source": [
        "#Start by connecting gdrive into the google colab\n",
        "\n",
        "from google.colab import drive\n",
        "drive.mount('/content/drive')"
      ]
    },
    {
      "cell_type": "code",
      "execution_count": 4,
      "metadata": {
        "id": "nyE8vJ_XSe_n"
      },
      "outputs": [],
      "source": [
        "api_key = ''\n",
        "with open('/content/drive/MyDrive/Dataset/api_key.txt') as f:\n",
        "    api_key = f.readlines()\n",
        "key = api_key[0]"
      ]
    },
    {
      "cell_type": "code",
      "execution_count": 5,
      "metadata": {
        "id": "nRQwaJcdS5Ij"
      },
      "outputs": [],
      "source": [
        "api_key = ''\n",
        "with open('/content/drive/MyDrive/Dataset/api_url.txt') as f:\n",
        "    api_url = f.readlines()\n",
        "\n",
        "url = \"http://\" + \"148.113.143.41\" + \":49152/tLM\"\n",
        "url1 = \"http://\" + \"148.113.138.69\" + \":49152/tLM\"\n",
        "url_2 = \"http://\" + \"15.235.41.234\" + \":49152/tLM\"\n",
        "\n",
        "(X, Y), (dev_X, dev_Y), labels = pickle.load(open(\"/content/drive/MyDrive/Dataset/SA-REVIEWS-Dataset.pkl\", \"rb\"))"
      ]
    },
    {
      "cell_type": "code",
      "execution_count": 6,
      "metadata": {
        "id": "n14SFaGfA_-Y"
      },
      "outputs": [],
      "source": [
        "batch_size = 100\n",
        "\n",
        "_r = sample(list(range(len(X))), k = batch_size * 50)\n",
        "X = [X[i] for i in _r]\n",
        "Y = [Y[i] for i in _r]\n",
        "\n",
        "_r = sample(list(range(len(dev_X))), k = batch_size * 50)\n",
        "dev_X = [dev_X[i] for i in _r]\n",
        "dev_Y = [dev_Y[i] for i in _r]"
      ]
    },
    {
      "cell_type": "code",
      "execution_count": 7,
      "metadata": {
        "id": "-44PTygBI6WT"
      },
      "outputs": [],
      "source": [
        "def list_maker(gener):\n",
        "    l1 = []\n",
        "    for item in gener:\n",
        "        l1.append(item)\n",
        "    return l1"
      ]
    },
    {
      "cell_type": "code",
      "source": [
        "  y_probEmot_AdmirationL = []\n",
        "  y_probEmot_AngerL = []\n",
        "  y_probEmot_FearL = []\n",
        "  y_probEmot_JoyL = []\n",
        "  y_probEmot_NeutralL = []\n",
        "  y_probEmot_SadnessL = []\n",
        "  y_probEmot_SurpriseL= []\n",
        "  y_probEmot_LoveL= []\n",
        "\n",
        "  y_probEmot_Admiration = []\n",
        "  y_probEmot_Anger = []\n",
        "  y_probEmot_Fear = []\n",
        "  y_probEmot_Joy = []\n",
        "  y_probEmot_Neutral = []\n",
        "  y_probEmot_Sadness = []\n",
        "  y_probEmot_Surprise= []\n",
        "  y_probEmot_Love= []\n"
      ],
      "metadata": {
        "id": "yspUHYjBW4QQ"
      },
      "execution_count": 8,
      "outputs": []
    },
    {
      "cell_type": "code",
      "execution_count": 9,
      "metadata": {
        "id": "gTggxTEQh462"
      },
      "outputs": [],
      "source": [
        "# Pass the prediction of the Emotion model to the General model"
      ]
    },
    {
      "cell_type": "code",
      "execution_count": null,
      "metadata": {
        "colab": {
          "base_uri": "https://localhost:8080/"
        },
        "id": "6TzPP1pUA7A1",
        "outputId": "10156c73-8898-492d-c3a7-c2b5656733d9"
      },
      "outputs": [
        {
          "output_type": "stream",
          "name": "stderr",
          "text": [
            " 10%|█         | 5/50 [01:55<18:16, 24.36s/it]"
          ]
        }
      ],
      "source": [
        "correct = 0\n",
        "total = 0\n",
        "\n",
        "y_predL = []\n",
        "y_predL_review = []\n",
        "y_predL_emotion = []\n",
        "\n",
        "\n",
        "\n",
        "y_trueL = []\n",
        "\n",
        "y_prob = []\n",
        "y_prob_review = []\n",
        "y_prob_emotion = []\n",
        "\n",
        "y_NeutralProb_review = []\n",
        "y_NeutralProb_reviewL = []\n",
        "\n",
        "y_Pos_Prob_review = []\n",
        "y_Neg_Prob_review = []\n",
        "\n",
        "y_Pos_Prob_reviewL = []\n",
        "y_Neg_Prob_reviewL = []\n",
        "\n",
        "for i in tqdm(range(0, len(dev_X), batch_size)):\n",
        "\n",
        "    #review\n",
        "    output_obj2 = requests.post(url1, json={'API-KEY': key, 'X': dev_X[i:i + batch_size]}).json()\n",
        "    y_pred_review = ((max(((v, k) for k, v in o['extracted'][-2][1].items()))[1] for o in output_obj2))\n",
        "    y_pred_prob_review = ((max(((v, k) for k, v in o['extracted'][-2][1].items()))[0] for o in output_obj2))\n",
        "\n",
        "    for j in output_obj2:\n",
        "      #print(j['extracted'][-2][1]['[Sentiment=Neutral]'])\n",
        "      y_Pos_Prob_review.append(j['extracted'][-2][1]['[Sentiment=Positive]'])\n",
        "      y_Neg_Prob_review.append(j['extracted'][-2][1]['[Sentiment=Negative]'])\n",
        "\n",
        "\n",
        "\n",
        "\n",
        "    review = []\n",
        "    for a in zip(y_pred_review):\n",
        "      review.append(a[0])\n",
        "      y_predL_review.append(a[0])\n",
        "\n",
        "    for c in zip(y_pred_prob_review):\n",
        "      y_prob_review.append(c[0])\n",
        "\n",
        "    for p in zip(y_Pos_Prob_review):\n",
        "      y_Pos_Prob_reviewL.append(p[0])\n",
        "\n",
        "    for n in zip(y_Neg_Prob_review):\n",
        "      y_Neg_Prob_reviewL.append(n[0])\n",
        "\n",
        "    #emotion\n",
        "    output_obj3 = requests.post(url_2, json={'API-KEY': key, 'X': dev_X[i:i + batch_size]}).json()\n",
        "    y_pred_emotion = ((max(((v, k) for k, v in o['extracted'][-2][1].items()))[1] for o in output_obj3))\n",
        "    y_pred_prob_emotion = ((max(((v, k) for k, v in o['extracted'][-2][1].items()))[0] for o in output_obj3))\n",
        "    y_pred_emotion_complete = (((((v, k) for k, v in o['extracted'][-2][1].items())) for o in output_obj3))\n",
        "\n",
        "    for j in output_obj3:\n",
        "          y_probEmot_Admiration.append(j['extracted'][-2][1]['[Sentiment=Admiration]'])\n",
        "          y_probEmot_Anger.append(j['extracted'][-2][1]['[Sentiment=Anger]'])\n",
        "          y_probEmot_Fear.append(j['extracted'][-2][1]['[Sentiment=Fear]'])\n",
        "          y_probEmot_Joy.append(j['extracted'][-2][1]['[Sentiment=Joy]'])\n",
        "          y_probEmot_Neutral.append(j['extracted'][-2][1]['[Sentiment=Neutral]'])\n",
        "          y_probEmot_Sadness.append(j['extracted'][-2][1]['[Sentiment=Sadness]'])\n",
        "          y_probEmot_Surprise.append(j['extracted'][-2][1]['[Sentiment=Surprise]'])\n",
        "          y_probEmot_Love.append(j['extracted'][-2][1]['[Sentiment=Love]'])\n",
        "    emotion = []\n",
        "    for a in zip(y_pred_emotion):\n",
        "      emotion.append(a[0])\n",
        "      y_predL_emotion.append(a[0])\n",
        "    for c in zip(y_pred_prob_emotion):\n",
        "      y_prob_emotion.append(c[0])\n",
        "\n",
        "    #general\n",
        "\n",
        "    l = []\n",
        "    l = dev_X[i:i + batch_size]\n",
        "\n",
        "    #for index, (value1, value2, value3) in enumerate(zip(l, emotion, review)):\n",
        "      #getEmotion = value2.replace('[','').replace(']','').replace('\\'','').replace('\\\"','').split('=')[1]\n",
        "      #getReview =  value3.replace('[','').replace(']','').replace('\\'','').replace('\\\"','').split('=')[1]\n",
        "      #l[index].append(getEmotion)\n",
        "      #l[index].append(getReview)\n",
        "      #print(l[index])\n",
        "\n",
        "    output_obj = requests.post(url, json={'API-KEY': key, 'X': l }).json()\n",
        "    y_pred = ((max(((v, k) for k, v in o['extracted'][-2][1].items()))[1] for o in output_obj))\n",
        "    y_pred_prob = ((max(((v, k) for k, v in o['extracted'][-2][1].items()))[0] for o in output_obj))\n",
        "    y_true = ((t[0] for t in dev_Y[i:i + batch_size]))\n",
        "\n",
        "    for a in zip(y_true):\n",
        "      y_trueL.append(a[0])\n",
        "    for b in zip(y_pred):\n",
        "      y_predL.append(b[0])\n",
        "    for c in zip(y_pred_prob):\n",
        "      y_prob.append(c[0])"
      ]
    },
    {
      "cell_type": "code",
      "source": [
        "y_probEmot_AdmirationL = list_maker(y_probEmot_Admiration)\n",
        "y_probEmot_AngerL = list_maker(y_probEmot_Anger)\n",
        "y_probEmot_FearL = list_maker(y_probEmot_Fear)\n",
        "y_probEmot_JoyL = list_maker(y_probEmot_Joy)\n",
        "y_probEmot_NeutralL= list_maker(y_probEmot_Neutral)\n",
        "y_probEmot_SadnessL= list_maker(y_probEmot_Sadness)\n",
        "y_probEmot_SurpriseL= list_maker(y_probEmot_Surprise)\n",
        "y_probEmot_LoveL= list_maker(y_probEmot_Love)"
      ],
      "metadata": {
        "id": "dTvt-FwGa8xG"
      },
      "execution_count": null,
      "outputs": []
    },
    {
      "cell_type": "code",
      "execution_count": null,
      "metadata": {
        "id": "ErQYdlZvDKxG"
      },
      "outputs": [],
      "source": [
        "# Review Model Metric on Review DS\n",
        "\n",
        "from sklearn.metrics import accuracy_score\n",
        "\n",
        "print(accuracy_score(y_trueL, y_predL_review))\n",
        "\n",
        "from sklearn.metrics import classification_report\n",
        "\n",
        "print(classification_report(y_trueL, y_predL_review))"
      ]
    },
    {
      "cell_type": "code",
      "execution_count": null,
      "metadata": {
        "id": "gT4uoTHiBZBo"
      },
      "outputs": [],
      "source": [
        "pos_mapping_emotion = {\n",
        "     '[Sentiment=Admiration]':  '[Sentiment=VeryPositive]',\n",
        "     '[Sentiment=Amusement]':  '[Sentiment=VeryPositive]',\n",
        "     '[Sentiment=Anger]': '[Sentiment=VeryNegative]',\n",
        "     '[Sentiment=Annoyance]': '[Sentiment=VeryNegative]' ,\n",
        "     '[Sentiment=Anticipation]':  '[Sentiment=Neutral]' ,\n",
        "     '[Sentiment=Approval]': '[Sentiment=Neutral]' ,\n",
        "     '[Sentiment=Caring]': '[Sentiment=Positive]' ,\n",
        "     '[Sentiment=Confusion]':  '[Sentiment=Neutral]',\n",
        "     '[Sentiment=Curiosity]': '[Sentiment=Neutral]' ,\n",
        "     '[Sentiment=Desire]': '[Sentiment=Neutral]' ,\n",
        "     '[Sentiment=Disappointment]': '[Sentiment=Negative]' ,\n",
        "     '[Sentiment=Disapproval]': '[Sentiment=Negative]' ,\n",
        "     '[Sentiment=Disgust]': '[Sentiment=VeryNegative]',\n",
        "     '[Sentiment=Embarrassment]': '[Sentiment=Negative]',\n",
        "     '[Sentiment=Excitement]': '[Sentiment=VeryPositive]',\n",
        "     '[Sentiment=Fear]': '[Sentiment=VeryNegative]',\n",
        "     '[Sentiment=Gratitude]': '[Sentiment=Positive]' ,\n",
        "     '[Sentiment=Grief]': '[Sentiment=VeryNegative]',\n",
        "     '[Sentiment=Joy]':  '[Sentiment=VeryPositive]',\n",
        "     '[Sentiment=Love]': '[Sentiment=VeryPositive]' ,\n",
        "     '[Sentiment=Nervousness]':  '[Sentiment=VeryNegative]',\n",
        "     '[Sentiment=Optimism]': '[Sentiment=VeryPositive]' ,\n",
        "     '[Sentiment=Pride]': '[Sentiment=Negative]',\n",
        "     '[Sentiment=Realization]': '[Sentiment=Neutral]' ,\n",
        "     '[Sentiment=Relief]': '[Sentiment=Neutral]' ,\n",
        "     '[Sentiment=Remorse]': '[Sentiment=VeryNegative]',\n",
        "     '[Sentiment=Sadness]': '[Sentiment=VeryNegative]',\n",
        "     '[Sentiment=Surprise]': '[Sentiment=VeryPositive]',\n",
        "     '[Sentiment=Trust]':  '[Sentiment=Positive]',\n",
        "     '[Sentiment=Neutral]' : '[Sentiment=Neutral]'\n",
        "\n",
        "}\n",
        "\n",
        "\n",
        "pos_mapping_emotion_ = {\n",
        "     '[Sentiment=Admiration]':  '[Sentiment=VeryPositive]',\n",
        "     '[Sentiment=Anger]': '[Sentiment=VeryNegative]',\n",
        "     '[Sentiment=Fear]': '[Sentiment=VeryNegative]',\n",
        "     '[Sentiment=Joy]':  '[Sentiment=VeryPositive]',\n",
        "     '[Sentiment=Neutral]' : '[Sentiment=Neutral]',\n",
        "     '[Sentiment=Sadness]': '[Sentiment=VeryNegative]',\n",
        "     '[Sentiment=Surprise]': '[Sentiment=VeryPositive]'\n",
        "}\n",
        "\n",
        "\n",
        "new_true_emotionDerived = [pos_mapping_emotion.get(item, item) for item in y_trueL]\n",
        "new_pred_emotionDerived = [pos_mapping_emotion.get(item, item) for item in y_predL_emotion]"
      ]
    },
    {
      "cell_type": "code",
      "execution_count": null,
      "metadata": {
        "id": "rSlFEIeQBGlj"
      },
      "outputs": [],
      "source": [
        "# Emotion Model on Review DS - With Mapping\n",
        "from sklearn.metrics import accuracy_score\n",
        "\n",
        "print(accuracy_score(new_true_emotionDerived, new_pred_emotionDerived))\n",
        "\n",
        "from sklearn.metrics import classification_report\n",
        "\n",
        "print(classification_report(new_true_emotionDerived, new_pred_emotionDerived))"
      ]
    },
    {
      "cell_type": "code",
      "execution_count": null,
      "metadata": {
        "id": "MP6ah2vgBNnB"
      },
      "outputs": [],
      "source": [
        "import pandas as pd\n",
        "\n",
        "sentiment = pd.DataFrame(\n",
        "    {'text': dev_X,\n",
        "     'gen_label': y_predL,\n",
        "     'revw_label': y_predL_review,\n",
        "     'emot_label': y_predL_emotion,\n",
        "     'emot_to_review_label' : new_pred_emotionDerived,\n",
        "     'true': y_trueL,\n",
        "     'gen_prob': y_prob,\n",
        "     'revw_prob': y_prob_review,\n",
        "     #'revw_prod_Neutral' : y_NeutralProb_reviewL,\n",
        "     'emot_prob': y_prob_emotion,\n",
        "     'exp' : y_predL\n",
        "    })\n",
        "\n",
        "sentiment.to_csv('/content/drive/MyDrive/sentimentEmottoReviewWed.csv')"
      ]
    },
    {
      "cell_type": "code",
      "execution_count": null,
      "metadata": {
        "id": "Nxa0pPnAJWVD"
      },
      "outputs": [],
      "source": [
        "sentiment"
      ]
    },
    {
      "cell_type": "code",
      "source": [
        "import pandas as pd\n",
        "\n",
        "sentiment_emotion = pd.DataFrame(\n",
        "    {'text': dev_X,\n",
        "     'revw_label': y_predL_review,\n",
        "     'emot_label': y_predL_emotion,\n",
        "     'emot_to_review_label' : new_pred_emotionDerived,\n",
        "     'true': y_trueL,\n",
        "     'emot_prob_maxPredicted': y_prob_emotion,\n",
        "     'emot_prob_Adm':y_probEmot_AdmirationL ,\n",
        "     'emot_prob_Anger':y_probEmot_AngerL ,\n",
        "     'emot_prob_Fear':y_probEmot_FearL ,\n",
        "     'emot_prob_Joy':y_probEmot_JoyL ,\n",
        "     'emot_prob_Neutral':y_probEmot_NeutralL,\n",
        "     'emot_prob_Sad':y_probEmot_SadnessL,\n",
        "     'emot_prob_Surp':y_probEmot_SurpriseL,\n",
        "     'emot_prob_Love':y_probEmot_LoveL,\n",
        "\n",
        "    })"
      ],
      "metadata": {
        "id": "fw1ZBukvaUKG"
      },
      "execution_count": null,
      "outputs": []
    },
    {
      "cell_type": "code",
      "source": [
        "sentiment_emotion"
      ],
      "metadata": {
        "id": "DitPCGuQeLS2"
      },
      "execution_count": null,
      "outputs": []
    },
    {
      "cell_type": "code",
      "execution_count": null,
      "metadata": {
        "id": "S1Qa02BNUJof"
      },
      "outputs": [],
      "source": [
        "import copy\n",
        "exp_list_ = []\n",
        "exp_list_ = copy.copy(y_predL_review) # Retain VP and VN from Review model prediction\n",
        "\n",
        "for index, row in sentiment_emotion.iterrows():\n",
        "    if( (row['revw_label']  !='[Sentiment=VeryPositive]') and row['revw_label']  !='[Sentiment=VeryNegative]') :\n",
        "       if ((row['emot_prob_Joy'] )  > 0.60) or ( 0.30 <= (row['emot_prob_Anger'] )  <= 0.50) or (((row['emot_prob_Fear'] )  < 0.20)):\n",
        "           exp_list_[index] = '[Sentiment=VeryPositive]'\n",
        "\n",
        "\n",
        "# Emotion model on Review dataset + 7 emotions mapped to VN , VN tags + Retain VP and VN from Review model prediction\n",
        "from sklearn.metrics import classification_report\n",
        "print(classification_report(y_trueL, exp_list_))"
      ]
    },
    {
      "cell_type": "code",
      "source": [
        "import copy\n",
        "exp_list_ = []\n",
        "exp_list_ = copy.copy(y_predL_review) # Retain VP and VN from Review model prediction\n",
        "\n",
        "for index, row in sentiment_emotion.iterrows():\n",
        "    if( (row['revw_label']  !='[Sentiment=VeryPositive]') and row['revw_label']  !='[Sentiment=VeryNegative]') :\n",
        "       if ((row['emot_prob_Adm'] )  > 0.16)  :\n",
        "           exp_list_[index] = '[Sentiment=VeryPositive]'\n",
        "\n",
        "# Emotion model on Review dataset + 7 emotions mapped to VN , VN tags + Retain VP and VN from Review model prediction\n",
        "from sklearn.metrics import classification_report\n",
        "print(classification_report(y_trueL, exp_list_))"
      ],
      "metadata": {
        "id": "-V-FEUJKyrxT"
      },
      "execution_count": null,
      "outputs": []
    },
    {
      "cell_type": "code",
      "source": [
        "import copy\n",
        "exp_list_ = []\n",
        "exp_list_ = copy.copy(y_predL_review) # Retain VP and VN from Review model prediction\n",
        "\n",
        "for index, row in sentiment_emotion.iterrows():\n",
        "    if( (row['revw_label']  !='[Sentiment=VeryPositive]') and row['revw_label']  !='[Sentiment=VeryNegative]') :\n",
        "        if(  0  < (row['emot_prob_Adm'] )   < 0.20) :\n",
        "            exp_list_[index] = '[Sentiment=VeryNegative]'\n",
        "# Emotion model on Review dataset + 7 emotions mapped to VN , VN tags + Retain VP and VN from Review model prediction\n",
        "from sklearn.metrics import classification_report\n",
        "print(classification_report(y_trueL, exp_list_))"
      ],
      "metadata": {
        "id": "xMOLiVTE0gxh"
      },
      "execution_count": null,
      "outputs": []
    },
    {
      "cell_type": "code",
      "source": [
        "import copy\n",
        "exp_list_ = []\n",
        "exp_list_ = copy.copy(y_predL_review) # Retain VP and VN from Review model prediction\n",
        "\n",
        "for index, row in sentiment_emotion.iterrows():\n",
        "    if( (row['revw_label']  !='[Sentiment=VeryPositive]') and row['revw_label']  !='[Sentiment=VeryNegative]') :\n",
        "       if (  (row['emot_prob_Sad'] ) > 0.20)  :\n",
        "           exp_list_[index] = '[Sentiment=VeryNegative]'\n",
        "\n",
        "# Emotion model on Review dataset + 7 emotions mapped to VN , VN tags + Retain VP and VN from Review model prediction\n",
        "from sklearn.metrics import classification_report\n",
        "print(classification_report(y_trueL, exp_list_))"
      ],
      "metadata": {
        "id": "AokKjJCb4S-l"
      },
      "execution_count": null,
      "outputs": []
    },
    {
      "cell_type": "code",
      "source": [
        "import copy\n",
        "from sklearn.metrics import classification_report\n",
        "exp_list_ = []\n",
        "exp_list_ = copy.copy(y_predL_review) # Retain VP and VN from Review model prediction\n",
        "\n",
        "for index, row in sentiment_emotion.iterrows():\n",
        "    if( (row['revw_label']  !='[Sentiment=VeryPositive]') and row['revw_label']  !='[Sentiment=VeryNegative]') :\n",
        "      if i in np.arrange(0.10,0.25,0.1):\n",
        "        if (  (row['emot_prob_Sad'] ) > i)  :\n",
        "           #exp_list_[index] = '[Sentiment=VeryNegative]'\n",
        "           # Emotion model on Review dataset + 7 emotions mapped to VN , VN tags + Retain VP and VN from Review model prediction\n",
        "           print(classification_report(y_trueL, exp_list_))"
      ],
      "metadata": {
        "id": "3D_bv3Uy2KAY"
      },
      "execution_count": null,
      "outputs": []
    },
    {
      "cell_type": "code",
      "source": [
        "      #elif ((row['emot_prob_Adm'] )  > 0.30) :\n",
        "           #exp_list_[index] = '[Sentiment=VeryPositive]'\n",
        "       #elif ((row['emot_prob_Love'] )  > 0.90) :\n",
        "           #exp_list_[index] = '[Sentiment=VeryPositive]'\n",
        "       #elif ((row['emot_prob_Sad'] )  > 0.60) :\n",
        "           #exp_list_[index] = '[Sentiment=VeryNegative]'\n",
        "       #elif ((row['emot_prob_Surp'] )  > 0.40) :\n",
        "           #exp_list_[index] = '[Sentiment=VeryPositive]'\n",
        "       #elif ((row['emot_prob_Anger'] )  > 0.10) :\n",
        "           #exp_list_[index] = '[Sentiment=VeryNegative]'\n",
        "       #elif ((row['emot_prob_Fear'] )  > 0.40) :\n",
        "           #exp_list_[index] = '[Sentiment=VeryNegative]'"
      ],
      "metadata": {
        "id": "Yp2iP9AJog7y"
      },
      "execution_count": null,
      "outputs": []
    }
  ],
  "metadata": {
    "colab": {
      "provenance": [],
      "mount_file_id": "1PIwqOuhmY26BetcERVrrphxc7PFOSou-",
      "authorship_tag": "ABX9TyPknGKiNfoOtOt1V7CZPHgi",
      "include_colab_link": true
    },
    "kernelspec": {
      "display_name": "Python 3",
      "name": "python3"
    },
    "language_info": {
      "name": "python"
    }
  },
  "nbformat": 4,
  "nbformat_minor": 0
}